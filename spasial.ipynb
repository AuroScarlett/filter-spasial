import numpy as np
import matplotlib.pyplot as plt
from scipy.ndimage import convolve
from skimage import data, color, img_as_float
from skimage.filters import sobel_h, sobel_v, sobel

# 1. Ambil citra contoh bawaan (grayscale)
image = img_as_float(data.camera())

# Kernel Laplacian: Digunakan untuk penajaman (Sharpening)
# Ini adalah filter high-pass yang menonjolkan transisi intensitas.
laplacian_kernel = np.array([
    [ 0, -1,  0],
    [-1,  4, -1],
    [ 0, -1,  0]
])

# Kernel Sobel (Horizontal): Digunakan untuk mendeteksi tepi vertikal
# Kernel Sobel (Vertikal): Digunakan untuk mendeteksi tepi horizontal
# Catatan: skimage sudah menyediakan sobel_h dan sobel_v, tapi ini ilustrasi kernel manual.
sobel_h_manual = np.array([
    [-1, 0, 1],
    [-2, 0, 2],
    [-1, 0, 1]
])
# sobel_v_manual = np.array([
#     [-1, -2, -1],
#     [ 0,  0,  0],
#     [ 1,  2,  1]
# ])

# 2. Terapkan Konvolusi untuk Penajaman (Sharpening) dengan Laplacian
# 'mode='reflect'' menangani piksel di tepi citra
laplacian_sharpened = convolve(image, laplacian_kernel, mode='reflect')
# Citra hasil penajaman sering kali ditambahkan kembali ke citra asli untuk mempertahankan kecerahan
sharpened_image = image + laplacian_sharpened


# 3. Terapkan Konvolusi untuk Deteksi Tepi (Edge Detection) dengan Sobel
# Menggunakan fungsi bawaan skimage.filters lebih umum dan teroptimasi
# Sobel Horizontal (Tepi Vertikal)
edges_h = sobel_h(image)
# Sobel Vertikal (Tepi Horizontal)
edges_v = sobel_v(image)
# Magnitude Sobel (Semua Tepi)
edges_magnitude = sobel(image)

# 4. Visualisasi Hasil
fig, axes = plt.subplots(2, 3, figsize=(15, 10))
ax = axes.ravel()

# Baris 1: Penajaman
ax[0].imshow(image, cmap='gray')
ax[0].set_title("Original Image")
ax[0].axis('off')

ax[1].imshow(laplacian_sharpened, cmap='gray')
ax[1].set_title("Laplacian Result (High-Pass)")
ax[1].axis('off')

ax[2].imshow(sharpened_image, cmap='gray')
ax[2].set_title("Sharpened Image (Original + Laplacian)")
ax[2].axis('off')

# Baris 2: Deteksi Tepi Sobel
ax[3].imshow(edges_h, cmap='gray')
ax[3].set_title("Sobel Edges (Horizontal)")
ax[3].axis('off')

ax[4].imshow(edges_v, cmap='gray')
ax[4].set_title("Sobel Edges (Vertical)")
ax[4].axis('off')

ax[5].imshow(edges_magnitude, cmap='gray')
ax[5].set_title("Sobel Magnitude (All Edges)")
ax[5].axis('off')

plt.tight_layout()
plt.show()

print("Selesai menerapkan filter Laplacian untuk penajaman dan Sobel untuk deteksi tepi.")
