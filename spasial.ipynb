import numpy as np
import matplotlib.pyplot as plt
from scipy.ndimage import convolve
from skimage import data, color, img_as_float
from skimage.filters import sobel_h, sobel_v, sobel

# 1. Ambil citra contoh bawaan (citra berwarna: astronaut)
image_rgb = img_as_float(data.astronaut())
# Konversi ke Grayscale agar filter spasial dapat diterapkan
image = color.rgb2gray(image_rgb) 

# Kernel Laplacian untuk Penajaman (Sharpening)
laplacian_kernel = np.array([
    [ 0, -1,  0],
    [-1,  4, -1],
    [ 0, -1,  0]
])

# 2. Terapkan Konvolusi untuk Penajaman (Sharpening) dengan Laplacian
laplacian_sharpened = convolve(image, laplacian_kernel, mode='reflect')
sharpened_image = image + laplacian_sharpened


# 3. Terapkan Konvolusi untuk Deteksi Tepi (Edge Detection) dengan Sobel
edges_h = sobel_h(image)
edges_v = sobel_v(image)
edges_magnitude = sobel(image) # Magnitude Sobel (Semua Tepi)

# 4. Visualisasi Hasil
fig, axes = plt.subplots(2, 3, figsize=(15, 10))
ax = axes.ravel()

# Baris 1: Penajaman
ax[0].imshow(image, cmap='gray')
ax[0].set_title("Original Image (Grayscale Astronaut)")
ax[0].axis('off')

ax[1].imshow(laplacian_sharpened, cmap='gray')
ax[1].set_title("Laplacian Result (High-Pass)")
ax[1].axis('off')

ax[2].imshow(sharpened_image, cmap='gray')
ax[2].set_title("Sharpened Image (Original + Laplacian)")
ax[2].axis('off')

# Baris 2: Deteksi Tepi Sobel
ax[3].imshow(edges_h, cmap='gray')
ax[3].set_title("Sobel Edges (Horizontal)")
ax[3].axis('off')

ax[4].imshow(edges_v, cmap='gray')
ax[4].set_title("Sobel Edges (Vertical)")
ax[4].axis('off')

ax[5].imshow(edges_magnitude, cmap='gray')
ax[5].set_title("Sobel Magnitude (All Edges)")
ax[5].axis('off')

plt.tight_layout()
plt.show()

print("Selesai menerapkan filter Laplacian dan Sobel pada citra 'Astronaut' setelah dikonversi ke grayscale.")
